{
  "nbformat": 4,
  "nbformat_minor": 0,
  "metadata": {
    "colab": {
      "provenance": []
    },
    "kernelspec": {
      "name": "python3",
      "display_name": "Python 3"
    },
    "language_info": {
      "name": "python"
    }
  },
  "cells": [
    {
      "cell_type": "markdown",
      "source": [
        "P-4.23 Implement a recursive function with signature find(path, filename) that\n",
        "reports all entries of the file system rooted at the given path having the\n",
        "given file name"
      ],
      "metadata": {
        "id": "OmM-7LuPn40C"
      }
    },
    {
      "cell_type": "code",
      "execution_count": 5,
      "metadata": {
        "id": "YVy6jFa_n29G"
      },
      "outputs": [],
      "source": [
        "import os\n",
        "\n",
        "def find(path, filename):\n",
        "\n",
        "    result = []\n",
        "\n",
        "    try:\n",
        "        for entry in os.listdir(path):\n",
        "\n",
        "            full_path = os.path.join(path, entry)\n",
        "\n",
        "            if os.path.isdir(full_path):\n",
        "                result.extend(find(full_path, filename))\n",
        "\n",
        "            elif entry == filename:\n",
        "                result.append(full_path)\n",
        "    except PermissionError:\n",
        "        print(f\"Permission denied: {path}\")\n",
        "\n",
        "    return result\n",
        "\n"
      ]
    },
    {
      "cell_type": "markdown",
      "source": [
        "P-4.27 Python’s os module provides a function with signature walk(path) that\n",
        "is a generator yielding the tuple (dirpath, dirnames, filenames) for each\n",
        "subdirectory of the directory identified by string path, such that string\n",
        "dirpath is the full path to the subdirectory, dirnames is a list of the names\n",
        "of the subdirectories within dirpath, and filenames is a list of the names\n",
        "of non-directory entries of dirpath. For example, when visiting the cs016\n",
        "subdirectory of the file system shown in Figure 4.6, the walk would yield\n",
        "( /user/rt/courses/cs016 , [ homeworks , programs ], [ grades ]).\n",
        "Give your own implementation of such a walk function."
      ],
      "metadata": {
        "id": "g7KgK5l_nCsm"
      }
    },
    {
      "cell_type": "code",
      "source": [
        "import os\n",
        "\n",
        "def this_pc(starting_directory):\n",
        "    if not os.path.isdir(starting_directory):\n",
        "        raise ValueError(f\"{starting_directory} is not a valid directory.\")\n",
        "\n",
        "    folders_to_visit = [starting_directory]\n",
        "\n",
        "    while folders_to_visit:\n",
        "        current_folder = folders_to_visit.pop()\n",
        "\n",
        "        try:\n",
        "            items_in_folder = os.listdir(current_folder)\n",
        "        except PermissionError:\n",
        "            continue\n",
        "\n",
        "        subfolders = []\n",
        "        files = []\n",
        "\n",
        "        for item in items_in_folder:\n",
        "            item_path = os.path.join(current_folder, item)\n",
        "            if os.path.isdir(item_path):\n",
        "                subfolders.append(item)\n",
        "                folders_to_visit.append(item_path)\n",
        "            else:\n",
        "                files.append(item)\n",
        "\n",
        "        yield (current_folder, subfolders, files)\n",
        "\n",
        "# Example\n",
        "for folder, subfolders, files in this_pc(\"Backup (E:)\"):\n",
        "    print(f\"Folder: {folder}\")\n",
        "    print(f\"Subfolders: {subfolders}\")\n",
        "    print(f\"Files: {files}\")\n",
        "    print()"
      ],
      "metadata": {
        "colab": {
          "base_uri": "https://localhost:8080/",
          "height": 332
        },
        "id": "rkAEfX6voi3l",
        "outputId": "4288a592-2cfc-4ee7-a53d-f7e5d3588c77"
      },
      "execution_count": 6,
      "outputs": [
        {
          "output_type": "error",
          "ename": "ValueError",
          "evalue": "Backup (E:) is not a valid directory.",
          "traceback": [
            "\u001b[0;31m---------------------------------------------------------------------------\u001b[0m",
            "\u001b[0;31mValueError\u001b[0m                                Traceback (most recent call last)",
            "\u001b[0;32m<ipython-input-6-9154885a12c7>\u001b[0m in \u001b[0;36m<cell line: 31>\u001b[0;34m()\u001b[0m\n\u001b[1;32m     29\u001b[0m \u001b[0;34m\u001b[0m\u001b[0m\n\u001b[1;32m     30\u001b[0m \u001b[0;31m# Example\u001b[0m\u001b[0;34m\u001b[0m\u001b[0;34m\u001b[0m\u001b[0m\n\u001b[0;32m---> 31\u001b[0;31m \u001b[0;32mfor\u001b[0m \u001b[0mfolder\u001b[0m\u001b[0;34m,\u001b[0m \u001b[0msubfolders\u001b[0m\u001b[0;34m,\u001b[0m \u001b[0mfiles\u001b[0m \u001b[0;32min\u001b[0m \u001b[0mthis_pc\u001b[0m\u001b[0;34m(\u001b[0m\u001b[0;34m\"Backup (E:)\"\u001b[0m\u001b[0;34m)\u001b[0m\u001b[0;34m:\u001b[0m\u001b[0;34m\u001b[0m\u001b[0;34m\u001b[0m\u001b[0m\n\u001b[0m\u001b[1;32m     32\u001b[0m     \u001b[0mprint\u001b[0m\u001b[0;34m(\u001b[0m\u001b[0;34mf\"Folder: {folder}\"\u001b[0m\u001b[0;34m)\u001b[0m\u001b[0;34m\u001b[0m\u001b[0;34m\u001b[0m\u001b[0m\n\u001b[1;32m     33\u001b[0m     \u001b[0mprint\u001b[0m\u001b[0;34m(\u001b[0m\u001b[0;34mf\"Subfolders: {subfolders}\"\u001b[0m\u001b[0;34m)\u001b[0m\u001b[0;34m\u001b[0m\u001b[0;34m\u001b[0m\u001b[0m\n",
            "\u001b[0;32m<ipython-input-6-9154885a12c7>\u001b[0m in \u001b[0;36mthis_pc\u001b[0;34m(starting_directory)\u001b[0m\n\u001b[1;32m      3\u001b[0m \u001b[0;32mdef\u001b[0m \u001b[0mthis_pc\u001b[0m\u001b[0;34m(\u001b[0m\u001b[0mstarting_directory\u001b[0m\u001b[0;34m)\u001b[0m\u001b[0;34m:\u001b[0m\u001b[0;34m\u001b[0m\u001b[0;34m\u001b[0m\u001b[0m\n\u001b[1;32m      4\u001b[0m     \u001b[0;32mif\u001b[0m \u001b[0;32mnot\u001b[0m \u001b[0mos\u001b[0m\u001b[0;34m.\u001b[0m\u001b[0mpath\u001b[0m\u001b[0;34m.\u001b[0m\u001b[0misdir\u001b[0m\u001b[0;34m(\u001b[0m\u001b[0mstarting_directory\u001b[0m\u001b[0;34m)\u001b[0m\u001b[0;34m:\u001b[0m\u001b[0;34m\u001b[0m\u001b[0;34m\u001b[0m\u001b[0m\n\u001b[0;32m----> 5\u001b[0;31m         \u001b[0;32mraise\u001b[0m \u001b[0mValueError\u001b[0m\u001b[0;34m(\u001b[0m\u001b[0;34mf\"{starting_directory} is not a valid directory.\"\u001b[0m\u001b[0;34m)\u001b[0m\u001b[0;34m\u001b[0m\u001b[0;34m\u001b[0m\u001b[0m\n\u001b[0m\u001b[1;32m      6\u001b[0m \u001b[0;34m\u001b[0m\u001b[0m\n\u001b[1;32m      7\u001b[0m     \u001b[0mfolders_to_visit\u001b[0m \u001b[0;34m=\u001b[0m \u001b[0;34m[\u001b[0m\u001b[0mstarting_directory\u001b[0m\u001b[0;34m]\u001b[0m\u001b[0;34m\u001b[0m\u001b[0;34m\u001b[0m\u001b[0m\n",
            "\u001b[0;31mValueError\u001b[0m: Backup (E:) is not a valid directory."
          ]
        }
      ]
    }
  ]
}